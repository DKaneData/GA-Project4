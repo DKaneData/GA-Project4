import pandas as pd

from sklearn.impute import KNNImputer


pd.set_option('display.max_rows', 60) # Resetting to default of 60

movies = pd.read_csv('../Project4/Data/movies.csv')
movies


movies.info()


movies.shape


movies.isnull().sum()





movies.set_index('name', inplace = True)
movies.head()





movies.dropna(subset = ['gross'], inplace = True)


movies.isnull().sum()


movies[movies['company'].isnull()]





movies[movies['writer'].isnull()]


movies.dropna(subset = ['writer'], inplace = True)
movies[movies['writer'].isnull()]


#1 where country is missing
movies[movies['country'].isnull()]





movies[movies['company'] == 'Growing Tree Productions']


movies[movies['director'] == 'Richard Grieco']


movies[movies['writer'] == 'Noel Ashman']


movies[movies['star'] == 'Ace Young']


movies.dropna(subset = ['country'], inplace = True)
movies[movies['country'].isnull()]


movies['rating'].value_counts(dropna = False)


movies[movies['rating'].isin(['TV-MA', 'TV-PG', 'Approved', 'TV-14'])]
    # TV MA is like an R rating
    # TV PG is like a PG Rating
    # TV 14 is like a PG-13 Rating   



# All the X or NC-17 ratings
movies[(movies['rating'] == 'NC-17') | (movies['rating'] == 'X')]


movies[movies['rating'].isnull()]


ratings_map = { 'G' : 1,
               'PG' : 2,
                'TV-PG' : 2,  # Make TV-PG and PG the same rating
               'PG-13' : 3,
               'TV-14' : 3,   # Make TV-14 and PG-13 the same rating
               'R' : 4,
               'TV-MA' : 4,   # Make TV-MA and R the same value
               'Approved' : 4, # Make Approved the same rating as R based on the 1 movie that has that rating
               'X' : 5,
               'NC-17' : 5,
               'Unrated' : 6,
               'Not Rated' : 6   # Will treat Unrated and Not Rated as similar categories
}


movies['rating'] = movies['rating'].map(ratings_map)
movies['rating'].value_counts(dropna = False)


movies.head()


movies.isnull().sum()


movies['company'].value_counts().reset_index()


movies[movies['company'].isnull()]


# Since there are just 10 movies where the company is missing, found the distributor on Wikipedia.
# Except for Cine Tren and We Pictures, the distributor has other movies in the data set
company_map = {
    'A Night in Heaven' : 'Twentieth Century Fox',
    'The Bear' : 'Embassy Pictures',
    'Modern Girls' : 'Atlantic Entertainment Group',
    'P.O.W. the Escape' : 'Cannon Films',
    'Heart of Dixie' : 'Orion Pictures',
    'Lost Angels' : 'Orion Pictures',
    'Staying Together' : 'Hemdale',  
    'Streets' : 'Concorde Pictures',
    'End of the Century' : 'Cine Tren',
    'Leap' : 'We Pictures',
}


movies['company'].fillna(company_map, inplace = True)
movies[movies['company'].isnull()]
    # No nulls in Company anymore


movies['company'].value_counts().reset_index()


movies.head()


movies.isnull().sum()





# The month should be the first word in the release date
def get_month(string):
    month = string.split()[0]
    return month


# Apply the function to the to the movies released column
movies['month'] = movies['released'].apply(get_month)


movies[['released', 'month']]
    # It's working


movies['month'].value_counts()
    # But for some movies, it doesn't have a month, so it's making it the year


# Create a list of valid months
valid_months = ['January', 'February', 'March', 'April', 'May', 'June', 'July', 'August', 'September', 'October', 'November', 'December']


# Create a function to convert invalid months into nulls
def convert_invalid_months(month):
    if month not in valid_months:
        return pd.NA #Convert to null value

    else:
        return month


# Apply the function to the months column
movies['month'] = movies['month'].apply(convert_invalid_months)


# Check the value counts
movies['month'].value_counts(dropna = False)


# Checking the months with missing nulls
movies[movies['month'].isnull()]


# Mapping the missing months
missing_mth_map = {
                   'Five Days One Summer' : 'November'
                   , 'Taipei Story' : 'January'
                   , 'O.C. and Stiggs' : 'July'
                   , 'The House on Carroll Street' : 'March'
                   , 'The White Balloon' : 'January'
                   , 'Dahmer' : 'January'
                   , 'Romeo and Juliet' : 'October'
              }


# filling in the missing months
movies['month'].fillna(missing_mth_map, inplace = True)


# Rechecking the month column
movies['month'].value_counts()


# 10 Movies with Missing Company
movies[movies['company'].isnull()]





### Trying a Categorical Imputer on Rating for those that are missing - will try KNN Imputer to impute missing Ratings


knn_imp = KNNImputer(n_neighbors = 5,
                     weights = 'uniform',
                    add_indicator = True,
                     )


movies_rating_imp = pd.DataFrame(knn_imp.fit_transform(movies),
                                   columns = movies['rating'])


movies['rating'] = knn_imp.fit_transform(movies['rating'])



