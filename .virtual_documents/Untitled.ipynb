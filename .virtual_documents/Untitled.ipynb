import pandas as pd

from sklearn.impute import KNNImputer


movies = pd.read_csv('../Project4/Data/movies.csv')
movies


movies.info()


movies.shape


movies.isnull().sum()





movies.dropna(subset = ['gross'], inplace = True)


movies.isnull().sum()





movies[movies['writer'].isnull()]


movies.dropna(subset = ['writer'], inplace = True)
movies[movies['writer'].isnull()]


#1 where country is missing
movies[movies['country'].isnull()]





movies[movies['company'] == 'Growing Tree Productions']


movies[movies['director'] == 'Richard Grieco']


movies[movies['writer'] == 'Noel Ashman']


movies[movies['star'] == 'Ace Young']


movies.dropna(subset = ['country'], inplace = True)
movies[movies['country'].isnull()]


movies['rating'].value_counts(dropna = False)


movies[movies['rating'].isin(['TV-MA', 'TV-PG', 'Approved', 'TV-14'])]
    # TV MA is like an R rating
    # TV PG is like a PG Rating
    # TV 14 is like a PG-13 Rating   



# All the X or NC-17 ratings
movies[(movies['rating'] == 'NC-17') | (movies['rating'] == 'X')]


movies[movies['rating'].isnull()]


ratings_map = { 'G' : 1,
               'PG' : 2,
                'TV-PG' : 2,  # Make TV-PG and PG the same rating
               'PG-13' : 3,
               'TV-14' : 3,   # Make TV-14 and PG-13 the same rating
               'R' : 4,
               'TV-MA' : 4,   # Make TV-MA and R the same value
               'Approved' : 4, # Make Approved the same rating as R based on the 1 movie that has that rating
               'X' : 5,
               'NC-17' : 5,
               'Unrated' : 6,
               'Not Rated' : 6   # Will treat Unrated and Not Rated as similar categories
}


movies['rating'] = movies['rating'].map(ratings_map)
movies['rating'].value_counts(dropna = False)


movies.head()


### Trying a Categorical Imputer on Rating for those that are missing - will try KNN Imputer to impute missing Ratings


knn_imp = KNNImputer(n_neighbors = 5,
                     weights = 'uniform',
                    add_indicator = True,
                     )


movies_rating_imp = pd.DataFrame(knn_imp.fit_transform(movies),
                                   columns = movies['rating'])


movies['rating'] = knn_imp.fit_transform(movies['rating'])



